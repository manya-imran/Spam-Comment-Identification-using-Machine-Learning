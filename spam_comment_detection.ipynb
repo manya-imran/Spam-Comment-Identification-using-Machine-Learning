{
 "cells": [
  {
   "cell_type": "code",
   "execution_count": 2,
   "metadata": {},
   "outputs": [],
   "source": [
    "import pandas as pd\n",
    "import numpy as np\n",
    "from sklearn.feature_extraction.text import CountVectorizer\n",
    "from sklearn.model_selection import train_test_split\n",
    "from sklearn.naive_bayes import BernoulliNB\n",
    "\n",
    "import warnings\n",
    "warnings.filterwarnings('ignore')"
   ]
  },
  {
   "cell_type": "code",
   "execution_count": 3,
   "metadata": {},
   "outputs": [],
   "source": [
    "data = pd.read_csv(\"Spam_comment.csv\")\n",
    "#print(data.isnull().sum())\n",
    "\n",
    "spam_valid = {\n",
    "     0: \"Not Spam\",\n",
    "     1: \"Spam\"\n",
    "}\n",
    "data[\"isSpam\"] = data[\"isSpam\"].map(spam_valid)\n",
    "\n",
    "x = np.array(data[[\"Comment_content\"]])\n",
    "y = np.array(data[\"isSpam\"])\n"
   ]
  },
  {
   "cell_type": "code",
   "execution_count": 4,
   "metadata": {},
   "outputs": [
    {
     "name": "stdout",
     "output_type": "stream",
     "text": [
      "0.8571428571428571\n"
     ]
    }
   ],
   "source": [
    "# Flatten the inner arrays\n",
    "x_flat = np.concatenate(x)\n",
    "\n",
    "# Ensure the array has strings\n",
    "if x_flat.dtype != 'str':\n",
    "    x_flat = x_flat.astype(str)\n",
    "\n",
    "# Convert the input data into token-matrix to make it fit for the model\n",
    "cv = CountVectorizer(lowercase=False, tokenizer=lambda x: x)\n",
    "x_transformed = cv.fit_transform(x_flat)\n",
    "\n",
    "# Split the dataset\n",
    "xtrain, xtest, ytrain, ytest = train_test_split(x_transformed, y, test_size=0.3, random_state=45)\n",
    "\n",
    "# Define bernoulli naive bayes model to work in binary distribution\n",
    "model = BernoulliNB()\n",
    "\n",
    "model.fit(xtrain, ytrain)\n",
    "print(model.score(xtest,ytest))"
   ]
  },
  {
   "cell_type": "code",
   "execution_count": 5,
   "metadata": {},
   "outputs": [
    {
     "name": "stdout",
     "output_type": "stream",
     "text": [
      "The comment is:  Spam\n",
      "The comment is:  Not Spam\n"
     ]
    }
   ],
   "source": [
    "# Spam comment example\n",
    "test_comment = \"Check out this SQL guide: https://www.w3schools.com/sql/\" \n",
    "data = cv.transform([test_comment]).toarray()\n",
    "result = model.predict(data)\n",
    "\n",
    "print(\"The comment is: \",result[0])\n",
    "\n",
    "# Not a spam comment example\n",
    "test_comment = \"This music video is amazing\"\n",
    "data = cv.transform([test_comment]).toarray()\n",
    "result = model.predict(data)\n",
    "\n",
    "print(\"The comment is: \", result[0])\n"
   ]
  }
 ],
 "metadata": {
  "kernelspec": {
   "display_name": "Python 3",
   "language": "python",
   "name": "python3"
  },
  "language_info": {
   "codemirror_mode": {
    "name": "ipython",
    "version": 3
   },
   "file_extension": ".py",
   "mimetype": "text/x-python",
   "name": "python",
   "nbconvert_exporter": "python",
   "pygments_lexer": "ipython3",
   "version": "3.9.6"
  },
  "orig_nbformat": 4
 },
 "nbformat": 4,
 "nbformat_minor": 2
}
